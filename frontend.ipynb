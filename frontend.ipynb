{
  "cells": [
    {
      "cell_type": "code",
      "source": [
        "from google.colab import drive\n",
        "drive.mount('/content/drive')"
      ],
      "metadata": {
        "colab": {
          "base_uri": "https://localhost:8080/"
        },
        "id": "xS0c5ndtvXy0",
        "outputId": "172a68d9-c18b-4b8a-a65a-72a2da70291e"
      },
      "id": "xS0c5ndtvXy0",
      "execution_count": null,
      "outputs": [
        {
          "output_type": "stream",
          "name": "stdout",
          "text": [
            "Drive already mounted at /content/drive; to attempt to forcibly remount, call drive.mount(\"/content/drive\", force_remount=True).\n"
          ]
        }
      ]
    },
    {
      "cell_type": "markdown",
      "source": [
        "# New Section"
      ],
      "metadata": {
        "id": "q2kr7RrSFDUh"
      },
      "id": "q2kr7RrSFDUh"
    },
    {
      "cell_type": "code",
      "source": [
        "!pip install sentence_transformers"
      ],
      "metadata": {
        "colab": {
          "base_uri": "https://localhost:8080/"
        },
        "id": "P9-HNHtf_21t",
        "outputId": "f7367e64-5647-40f8-bf7d-9257ab640b3e"
      },
      "id": "P9-HNHtf_21t",
      "execution_count": null,
      "outputs": [
        {
          "output_type": "stream",
          "name": "stdout",
          "text": [
            "Looking in indexes: https://pypi.org/simple, https://us-python.pkg.dev/colab-wheels/public/simple/\n",
            "Requirement already satisfied: sentence_transformers in /usr/local/lib/python3.8/dist-packages (2.2.2)\n",
            "Requirement already satisfied: sentencepiece in /usr/local/lib/python3.8/dist-packages (from sentence_transformers) (0.1.97)\n",
            "Requirement already satisfied: nltk in /usr/local/lib/python3.8/dist-packages (from sentence_transformers) (3.7)\n",
            "Requirement already satisfied: numpy in /usr/local/lib/python3.8/dist-packages (from sentence_transformers) (1.21.6)\n",
            "Requirement already satisfied: transformers<5.0.0,>=4.6.0 in /usr/local/lib/python3.8/dist-packages (from sentence_transformers) (4.25.1)\n",
            "Requirement already satisfied: scikit-learn in /usr/local/lib/python3.8/dist-packages (from sentence_transformers) (1.0.2)\n",
            "Requirement already satisfied: torchvision in /usr/local/lib/python3.8/dist-packages (from sentence_transformers) (0.14.0+cu116)\n",
            "Requirement already satisfied: scipy in /usr/local/lib/python3.8/dist-packages (from sentence_transformers) (1.7.3)\n",
            "Requirement already satisfied: huggingface-hub>=0.4.0 in /usr/local/lib/python3.8/dist-packages (from sentence_transformers) (0.11.1)\n",
            "Requirement already satisfied: tqdm in /usr/local/lib/python3.8/dist-packages (from sentence_transformers) (4.64.1)\n",
            "Requirement already satisfied: torch>=1.6.0 in /usr/local/lib/python3.8/dist-packages (from sentence_transformers) (1.13.0+cu116)\n",
            "Requirement already satisfied: packaging>=20.9 in /usr/local/lib/python3.8/dist-packages (from huggingface-hub>=0.4.0->sentence_transformers) (21.3)\n",
            "Requirement already satisfied: typing-extensions>=3.7.4.3 in /usr/local/lib/python3.8/dist-packages (from huggingface-hub>=0.4.0->sentence_transformers) (4.4.0)\n",
            "Requirement already satisfied: filelock in /usr/local/lib/python3.8/dist-packages (from huggingface-hub>=0.4.0->sentence_transformers) (3.8.0)\n",
            "Requirement already satisfied: requests in /usr/local/lib/python3.8/dist-packages (from huggingface-hub>=0.4.0->sentence_transformers) (2.23.0)\n",
            "Requirement already satisfied: pyyaml>=5.1 in /usr/local/lib/python3.8/dist-packages (from huggingface-hub>=0.4.0->sentence_transformers) (6.0)\n",
            "Requirement already satisfied: pyparsing!=3.0.5,>=2.0.2 in /usr/local/lib/python3.8/dist-packages (from packaging>=20.9->huggingface-hub>=0.4.0->sentence_transformers) (3.0.9)\n",
            "Requirement already satisfied: tokenizers!=0.11.3,<0.14,>=0.11.1 in /usr/local/lib/python3.8/dist-packages (from transformers<5.0.0,>=4.6.0->sentence_transformers) (0.13.2)\n",
            "Requirement already satisfied: regex!=2019.12.17 in /usr/local/lib/python3.8/dist-packages (from transformers<5.0.0,>=4.6.0->sentence_transformers) (2022.6.2)\n",
            "Requirement already satisfied: joblib in /usr/local/lib/python3.8/dist-packages (from nltk->sentence_transformers) (1.2.0)\n",
            "Requirement already satisfied: click in /usr/local/lib/python3.8/dist-packages (from nltk->sentence_transformers) (7.1.2)\n",
            "Requirement already satisfied: chardet<4,>=3.0.2 in /usr/local/lib/python3.8/dist-packages (from requests->huggingface-hub>=0.4.0->sentence_transformers) (3.0.4)\n",
            "Requirement already satisfied: urllib3!=1.25.0,!=1.25.1,<1.26,>=1.21.1 in /usr/local/lib/python3.8/dist-packages (from requests->huggingface-hub>=0.4.0->sentence_transformers) (1.24.3)\n",
            "Requirement already satisfied: certifi>=2017.4.17 in /usr/local/lib/python3.8/dist-packages (from requests->huggingface-hub>=0.4.0->sentence_transformers) (2022.9.24)\n",
            "Requirement already satisfied: idna<3,>=2.5 in /usr/local/lib/python3.8/dist-packages (from requests->huggingface-hub>=0.4.0->sentence_transformers) (2.10)\n",
            "Requirement already satisfied: threadpoolctl>=2.0.0 in /usr/local/lib/python3.8/dist-packages (from scikit-learn->sentence_transformers) (3.1.0)\n",
            "Requirement already satisfied: pillow!=8.3.*,>=5.3.0 in /usr/local/lib/python3.8/dist-packages (from torchvision->sentence_transformers) (6.2.2)\n"
          ]
        }
      ]
    },
    {
      "cell_type": "code",
      "source": [
        "!pip install pytesseract"
      ],
      "metadata": {
        "colab": {
          "base_uri": "https://localhost:8080/",
          "height": 331
        },
        "id": "vcDgTz5B-cfT",
        "outputId": "5c0ee769-e432-469c-f25c-9f7ed9337d1a"
      },
      "id": "vcDgTz5B-cfT",
      "execution_count": null,
      "outputs": [
        {
          "output_type": "stream",
          "name": "stdout",
          "text": [
            "Looking in indexes: https://pypi.org/simple, https://us-python.pkg.dev/colab-wheels/public/simple/\n",
            "Requirement already satisfied: pytesseract in /usr/local/lib/python3.8/dist-packages (0.3.10)\n",
            "Collecting Pillow>=8.0.0\n",
            "  Using cached Pillow-9.3.0-cp38-cp38-manylinux_2_17_x86_64.manylinux2014_x86_64.whl (3.2 MB)\n",
            "Requirement already satisfied: packaging>=21.3 in /usr/local/lib/python3.8/dist-packages (from pytesseract) (21.3)\n",
            "Requirement already satisfied: pyparsing!=3.0.5,>=2.0.2 in /usr/local/lib/python3.8/dist-packages (from packaging>=21.3->pytesseract) (3.0.9)\n",
            "Installing collected packages: Pillow\n",
            "  Attempting uninstall: Pillow\n",
            "    Found existing installation: Pillow 6.2.2\n",
            "    Uninstalling Pillow-6.2.2:\n",
            "      Successfully uninstalled Pillow-6.2.2\n",
            "Successfully installed Pillow-9.3.0\n"
          ]
        },
        {
          "output_type": "display_data",
          "data": {
            "application/vnd.colab-display-data+json": {
              "pip_warning": {
                "packages": [
                  "PIL"
                ]
              }
            }
          },
          "metadata": {}
        }
      ]
    },
    {
      "cell_type": "code",
      "source": [
        "!pip install flask_cors"
      ],
      "metadata": {
        "colab": {
          "base_uri": "https://localhost:8080/"
        },
        "id": "p9Dt7h5--cgk",
        "outputId": "f6a1afa2-ab9d-4266-ce3d-004b7ca996f2"
      },
      "id": "p9Dt7h5--cgk",
      "execution_count": null,
      "outputs": [
        {
          "output_type": "stream",
          "name": "stdout",
          "text": [
            "Looking in indexes: https://pypi.org/simple, https://us-python.pkg.dev/colab-wheels/public/simple/\n",
            "Requirement already satisfied: flask_cors in /usr/local/lib/python3.8/dist-packages (3.0.10)\n",
            "Requirement already satisfied: Six in /usr/local/lib/python3.8/dist-packages (from flask_cors) (1.15.0)\n",
            "Requirement already satisfied: Flask>=0.9 in /usr/local/lib/python3.8/dist-packages (from flask_cors) (1.1.4)\n",
            "Requirement already satisfied: click<8.0,>=5.1 in /usr/local/lib/python3.8/dist-packages (from Flask>=0.9->flask_cors) (7.1.2)\n",
            "Requirement already satisfied: Jinja2<3.0,>=2.10.1 in /usr/local/lib/python3.8/dist-packages (from Flask>=0.9->flask_cors) (2.11.3)\n",
            "Requirement already satisfied: itsdangerous<2.0,>=0.24 in /usr/local/lib/python3.8/dist-packages (from Flask>=0.9->flask_cors) (1.1.0)\n",
            "Requirement already satisfied: Werkzeug<2.0,>=0.15 in /usr/local/lib/python3.8/dist-packages (from Flask>=0.9->flask_cors) (1.0.1)\n",
            "Requirement already satisfied: MarkupSafe>=0.23 in /usr/local/lib/python3.8/dist-packages (from Jinja2<3.0,>=2.10.1->Flask>=0.9->flask_cors) (2.0.1)\n"
          ]
        }
      ]
    },
    {
      "cell_type": "code",
      "source": [
        "!pip install torchviz"
      ],
      "metadata": {
        "colab": {
          "base_uri": "https://localhost:8080/"
        },
        "id": "rH32ygP6_27M",
        "outputId": "a223e122-8dbf-44e8-f88d-c9eb87192777"
      },
      "id": "rH32ygP6_27M",
      "execution_count": null,
      "outputs": [
        {
          "output_type": "stream",
          "name": "stdout",
          "text": [
            "Looking in indexes: https://pypi.org/simple, https://us-python.pkg.dev/colab-wheels/public/simple/\n",
            "Requirement already satisfied: torchviz in /usr/local/lib/python3.8/dist-packages (0.0.2)\n",
            "Requirement already satisfied: torch in /usr/local/lib/python3.8/dist-packages (from torchviz) (1.13.0+cu116)\n",
            "Requirement already satisfied: graphviz in /usr/local/lib/python3.8/dist-packages (from torchviz) (0.10.1)\n",
            "Requirement already satisfied: typing-extensions in /usr/local/lib/python3.8/dist-packages (from torch->torchviz) (4.4.0)\n"
          ]
        }
      ]
    },
    {
      "cell_type": "code",
      "source": [
        "!pip install werkzeug"
      ],
      "metadata": {
        "colab": {
          "base_uri": "https://localhost:8080/"
        },
        "id": "jrxtKMlXAXJy",
        "outputId": "28c86d51-2ccc-4875-bcf1-c6177fefde48"
      },
      "id": "jrxtKMlXAXJy",
      "execution_count": null,
      "outputs": [
        {
          "output_type": "stream",
          "name": "stdout",
          "text": [
            "Looking in indexes: https://pypi.org/simple, https://us-python.pkg.dev/colab-wheels/public/simple/\n",
            "Requirement already satisfied: werkzeug in /usr/local/lib/python3.8/dist-packages (1.0.1)\n"
          ]
        }
      ]
    },
    {
      "cell_type": "code",
      "source": [
        "!pip install fastcore -U"
      ],
      "metadata": {
        "colab": {
          "base_uri": "https://localhost:8080/"
        },
        "id": "mEezwxmJApTV",
        "outputId": "8ca8df00-e8d5-4bcd-e96e-ba8da214526e"
      },
      "id": "mEezwxmJApTV",
      "execution_count": null,
      "outputs": [
        {
          "output_type": "stream",
          "name": "stdout",
          "text": [
            "Looking in indexes: https://pypi.org/simple, https://us-python.pkg.dev/colab-wheels/public/simple/\n",
            "Requirement already satisfied: fastcore in /usr/local/lib/python3.8/dist-packages (1.5.27)\n",
            "Requirement already satisfied: packaging in /usr/local/lib/python3.8/dist-packages (from fastcore) (21.3)\n",
            "Requirement already satisfied: pip in /usr/local/lib/python3.8/dist-packages (from fastcore) (21.1.3)\n",
            "Requirement already satisfied: pyparsing!=3.0.5,>=2.0.2 in /usr/local/lib/python3.8/dist-packages (from packaging->fastcore) (3.0.9)\n"
          ]
        }
      ]
    },
    {
      "cell_type": "code",
      "source": [
        "!pip install --upgrade pillow==6.2.2 "
      ],
      "metadata": {
        "colab": {
          "base_uri": "https://localhost:8080/",
          "height": 331
        },
        "id": "Z6qbwOoSApUp",
        "outputId": "a4e97fdf-0bdb-46aa-ec79-ff769f608fa1"
      },
      "id": "Z6qbwOoSApUp",
      "execution_count": null,
      "outputs": [
        {
          "output_type": "stream",
          "name": "stdout",
          "text": [
            "Looking in indexes: https://pypi.org/simple, https://us-python.pkg.dev/colab-wheels/public/simple/\n",
            "Collecting pillow==6.2.2\n",
            "  Using cached Pillow-6.2.2-cp38-cp38-manylinux1_x86_64.whl (2.1 MB)\n",
            "Installing collected packages: pillow\n",
            "  Attempting uninstall: pillow\n",
            "    Found existing installation: Pillow 9.3.0\n",
            "    Uninstalling Pillow-9.3.0:\n",
            "      Successfully uninstalled Pillow-9.3.0\n",
            "\u001b[31mERROR: pip's dependency resolver does not currently take into account all the packages that are installed. This behaviour is the source of the following dependency conflicts.\n",
            "pytesseract 0.3.10 requires Pillow>=8.0.0, but you have pillow 6.2.2 which is incompatible.\n",
            "bokeh 2.3.3 requires pillow>=7.1.0, but you have pillow 6.2.2 which is incompatible.\u001b[0m\n",
            "Successfully installed pillow-6.2.2\n"
          ]
        },
        {
          "output_type": "display_data",
          "data": {
            "application/vnd.colab-display-data+json": {
              "pip_warning": {
                "packages": [
                  "PIL"
                ]
              }
            }
          },
          "metadata": {}
        }
      ]
    },
    {
      "cell_type": "code",
      "source": [
        "# !pip uninstall Pillow"
      ],
      "metadata": {
        "colab": {
          "base_uri": "https://localhost:8080/"
        },
        "id": "MKtZfffuApZE",
        "outputId": "40e51a19-dad0-4f8a-eab8-8c5297856493"
      },
      "id": "MKtZfffuApZE",
      "execution_count": null,
      "outputs": [
        {
          "output_type": "stream",
          "name": "stdout",
          "text": [
            "Found existing installation: Pillow 6.2.2\n",
            "Uninstalling Pillow-6.2.2:\n",
            "  Would remove:\n",
            "    /usr/local/lib/python3.8/dist-packages/PIL/*\n",
            "    /usr/local/lib/python3.8/dist-packages/Pillow-6.2.2.dist-info/*\n",
            "Proceed (y/n)? y\n",
            "  Successfully uninstalled Pillow-6.2.2\n"
          ]
        }
      ]
    },
    {
      "cell_type": "code",
      "source": [
        "!pip install Pillow"
      ],
      "metadata": {
        "colab": {
          "base_uri": "https://localhost:8080/",
          "height": 190
        },
        "id": "LUFm60FjApaP",
        "outputId": "0189104f-5f98-4dad-ae18-e50d240650a0"
      },
      "id": "LUFm60FjApaP",
      "execution_count": null,
      "outputs": [
        {
          "output_type": "stream",
          "name": "stdout",
          "text": [
            "Looking in indexes: https://pypi.org/simple, https://us-python.pkg.dev/colab-wheels/public/simple/\n",
            "Collecting Pillow\n",
            "  Using cached Pillow-9.3.0-cp38-cp38-manylinux_2_17_x86_64.manylinux2014_x86_64.whl (3.2 MB)\n",
            "Installing collected packages: Pillow\n",
            "Successfully installed Pillow-9.3.0\n"
          ]
        },
        {
          "output_type": "display_data",
          "data": {
            "application/vnd.colab-display-data+json": {
              "pip_warning": {
                "packages": [
                  "PIL"
                ]
              }
            }
          },
          "metadata": {}
        }
      ]
    },
    {
      "cell_type": "code",
      "source": [],
      "metadata": {
        "id": "X0KSHAIjApdI"
      },
      "id": "X0KSHAIjApdI",
      "execution_count": null,
      "outputs": []
    },
    {
      "cell_type": "code",
      "source": [
        "import spacy"
      ],
      "metadata": {
        "colab": {
          "base_uri": "https://localhost:8080/"
        },
        "id": "H3OtkO9L8BdP",
        "outputId": "84cbc3d2-0ac9-4dab-a0f0-7cb49b5b2536"
      },
      "id": "H3OtkO9L8BdP",
      "execution_count": null,
      "outputs": [
        {
          "output_type": "stream",
          "name": "stderr",
          "text": [
            "/usr/local/lib/python3.8/dist-packages/torch/cuda/__init__.py:497: UserWarning: Can't initialize NVML\n",
            "  warnings.warn(\"Can't initialize NVML\")\n"
          ]
        }
      ]
    },
    {
      "cell_type": "code",
      "source": [
        "from sentence_transformers import SentenceTransformer, util"
      ],
      "metadata": {
        "id": "UMVBH6_8_23E"
      },
      "id": "UMVBH6_8_23E",
      "execution_count": null,
      "outputs": []
    },
    {
      "cell_type": "code",
      "source": [
        "import torch\n",
        "from PIL import Image\n",
        "import torchvision.transforms as transforms\n",
        "from sklearn.preprocessing import LabelEncoder\n",
        "import torch.nn as nn\n",
        "import torch.nn.functional as F\n",
        "import torch.optim as optim"
      ],
      "metadata": {
        "id": "AhhU3aoC_28b"
      },
      "id": "AhhU3aoC_28b",
      "execution_count": null,
      "outputs": []
    },
    {
      "cell_type": "code",
      "source": [],
      "metadata": {
        "id": "eRBPec7oAOSg"
      },
      "id": "eRBPec7oAOSg",
      "execution_count": null,
      "outputs": []
    },
    {
      "cell_type": "code",
      "source": [],
      "metadata": {
        "id": "j6Ik4yC8AOUJ"
      },
      "id": "j6Ik4yC8AOUJ",
      "execution_count": null,
      "outputs": []
    },
    {
      "cell_type": "code",
      "source": [],
      "metadata": {
        "id": "nM34iLK0AOXn"
      },
      "id": "nM34iLK0AOXn",
      "execution_count": null,
      "outputs": []
    },
    {
      "cell_type": "code",
      "source": [
        "import pandas as pd \n",
        "import numpy as np\n",
        "import os\n",
        "import torch\n",
        "from PIL import Image\n",
        "# import torchvision.transforms as transforms\n",
        "from sklearn.preprocessing import LabelEncoder\n",
        "import torch.nn as nn\n",
        "import torch.nn.functional as F\n",
        "import torch.optim as optim\n",
        "from sentence_transformers import SentenceTransformer, util\n",
        "from flask import Flask, jsonify, request\n",
        "from werkzeug.utils import secure_filename\n",
        "from flask_cors import CORS, cross_origin\n",
        "import re\n",
        "from pytesseract import pytesseract"
      ],
      "metadata": {
        "id": "aA5_GO4x-clW"
      },
      "id": "aA5_GO4x-clW",
      "execution_count": null,
      "outputs": []
    },
    {
      "cell_type": "code",
      "execution_count": null,
      "id": "3b282d45",
      "metadata": {
        "colab": {
          "base_uri": "https://localhost:8080/"
        },
        "id": "3b282d45",
        "outputId": "5180fe13-1b05-496c-8148-bb3ef8c65002"
      },
      "outputs": [
        {
          "output_type": "stream",
          "name": "stdout",
          "text": [
            " * Serving Flask app \"__main__\" (lazy loading)\n",
            " * Environment: production\n",
            "\u001b[31m   WARNING: This is a development server. Do not use it in a production deployment.\u001b[0m\n",
            "\u001b[2m   Use a production WSGI server instead.\u001b[0m\n",
            " * Debug mode: off\n"
          ]
        },
        {
          "output_type": "stream",
          "name": "stderr",
          "text": [
            "INFO:werkzeug: * Running on http://127.0.0.1:5000/ (Press CTRL+C to quit)\n"
          ]
        }
      ],
      "source": [
        "\n",
        "\n",
        "path_to_tesseract = r\"C:\\Program Files (x86)\\Tesseract-OCR\"\n",
        "\n",
        "modelPath = 'combined_model.pt'\n",
        "\n",
        "sentence_model = SentenceTransformer('all-MiniLM-L6-v2')\n",
        "\n",
        "mean = [0.4, 0.5, 0.5]\n",
        "std = [0.4, 0.5, 0.5]\n",
        "\n",
        "\n",
        "transform = transforms.Compose(\n",
        "    [transforms.Resize((100, 100)),  \n",
        "     transforms.ToTensor(),\n",
        "    transforms.Normalize(torch.Tensor(mean), torch.Tensor(std))\n",
        "    ])\n",
        "\n",
        "def preprocessor(text):\n",
        "    text = re.sub(r'[^\\w\\s]', '',text)\n",
        "    text = text.lower()\n",
        "    return text\n",
        "\n",
        "def pad_tensor(t):\n",
        "    t = torch.tensor(t)\n",
        "    padding = 187 - t.size()[0]\n",
        "    t = torch.nn.functional.pad(t, (0, padding))\n",
        "    return t\n",
        "\n",
        "class NN(nn.Module):    \n",
        "    def __init__(self):\n",
        "        super(NN, self).__init__()\n",
        "        self.flatten = nn.Flatten()\n",
        "        self.linear_relu_stack = nn.Sequential(\n",
        "            nn.Linear(100*100*3, 256),\n",
        "            nn.ReLU(inplace=False),\n",
        "            nn.Linear(256, 64),\n",
        "            nn.ReLU(inplace=False),\n",
        "            nn.Linear(64, 32),\n",
        "            nn.ReLU(inplace=False),\n",
        "            nn.Linear(32, 3)\n",
        "        )\n",
        "\n",
        "    def forward(self, x):\n",
        "        x = self.flatten(x)\n",
        "        logits = self.linear_relu_stack(x)\n",
        "        return logits\n",
        "\n",
        "class NN_text(nn.Module):    \n",
        "    def __init__(self):\n",
        "        super(NN_text, self).__init__()\n",
        "        self.flatten = nn.Flatten()\n",
        "        self.linear_relu_stack = nn.Sequential(\n",
        "            nn.Linear(187, 256),\n",
        "            nn.ReLU(inplace=False),\n",
        "            nn.Linear(256, 64),\n",
        "            nn.ReLU(inplace=False),\n",
        "            nn.Linear(64, 32),\n",
        "            nn.ReLU(inplace=False),\n",
        "            nn.Linear(32, 3)\n",
        "        )\n",
        "\n",
        "    def forward(self, x):\n",
        "        x = self.flatten(x)\n",
        "        logits = self.linear_relu_stack(x)\n",
        "        return logits\n",
        "\n",
        "class Combined_model(nn.Module):\n",
        "    def __init__(self, modelA, modelB):\n",
        "        super(Combined_model, self).__init__()\n",
        "        self.modelA = modelA\n",
        "        self.modelB = modelB\n",
        "        self.classifier = nn.Linear(6, 128)\n",
        "        self.classifier1 = nn.Linear(128, 64)\n",
        "        self.classifier2 = nn.Linear(64, 32)\n",
        "        self.classifier3 = nn.Linear(32, 16)\n",
        "        \n",
        "        self.out1 = nn.Linear(16, 2,)\n",
        "        self.out2 = nn.Linear(16, 2)\n",
        "        self.out3 = nn.Linear(16, 2)\n",
        "        self.out4 = nn.Linear(16, 2)\n",
        "        self.out5 = nn.Linear(16, 3)\n",
        "\n",
        "        \n",
        "    def forward(self, x1, x2):\n",
        "        x1 = self.modelA(x1)\n",
        "        x2 = self.modelB(x2)\n",
        "        x = torch.cat((x1, x2), dim=1)\n",
        "        \n",
        "        x = self.classifier(x)\n",
        "        x = self.classifier1(x)\n",
        "        x = self.classifier2(x)\n",
        "        x = self.classifier3(x)\n",
        "        \n",
        "        out1 = self.out1(x)\n",
        "        out2 = self.out2(x)\n",
        "        out3 = self.out3(x)\n",
        "        out4 = self.out4(x)\n",
        "        out5 = self.out5(x)\n",
        "        return out1, out2, out3, out4, out5\n",
        "\n",
        "\n",
        "net = NN()\n",
        "net_text = NN_text()\n",
        "combined_model = Combined_model(net, net_text)\n",
        "\n",
        "combined_model.load_state_dict(torch.load(modelPath))\n",
        "combined_model.eval()\n",
        "\n",
        "app = Flask(__name__)\n",
        "cors = CORS(app)\n",
        "\n",
        "\n",
        "app.secret_key = \"secret key\" \n",
        "app.config['MAX_CONTENT_LENGTH'] = 16 * 1024 * 1024 \n",
        "path = os.getcwd()\n",
        "UPLOAD_FOLDER = os.path.join(path, 'uploads')\n",
        "\n",
        "if not os.path.isdir(UPLOAD_FOLDER):\n",
        "    os.mkdir(UPLOAD_FOLDER)\n",
        "\n",
        "app.config['UPLOAD_FOLDER'] = UPLOAD_FOLDER\n",
        "ALLOWED_EXTENSIONS = set(['txt', 'pdf', 'png', 'jpg', 'jpeg', 'gif','docx'])\n",
        "\n",
        "\n",
        "\n",
        "\n",
        "def allowed_file(filename):\n",
        "    return '.' in filename and filename.rsplit('.', 1)[1].lower() in ALLOWED_EXTENSIONS\n",
        "\n",
        "\n",
        "diction = dict()\n",
        "\n",
        "@app.route('/send_pdf', methods=['POST'])\n",
        "def upload_pdf():\n",
        "    if request.method == 'POST':\n",
        "\n",
        "        if 'file' not in request.files:\n",
        "            print('No file part')\n",
        "\n",
        "        file = request.files['file']\n",
        "        if file.filename == '':\n",
        "            print('No file selected for uploading')\n",
        "            \n",
        "        if file and allowed_file(file.filename):\n",
        "            filename = secure_filename(file.filename)\n",
        "            file.save(os.path.join(app.config['UPLOAD_FOLDER'], filename))      \n",
        "            print('File successfully uploaded')\n",
        "            savedImage = Image.open(os.path.join(app.config['UPLOAD_FOLDER'], filename)).convert('RGB')\n",
        "            pytesseract.tesseract_cmd = path_to_tesseract\n",
        "  \n",
        "# Passing the image object to image_to_string() function\n",
        "# This function will extract the text from the image\n",
        "            text = pytesseract.image_to_string(savedImage)\n",
        "            \n",
        "            # Displaying the extracted text\n",
        "            savedText = preprocessor(text[:-1])\n",
        "            paddedText = pad_tensor(sentence_model.encode(savedText, convert_to_tensor=True))\n",
        "            paddedText = paddedText.unsqueeze(dim=0)\n",
        "            transImg = transform(savedImage)\n",
        "            transImg = transImg.unsqueeze(dim=0)\n",
        "\n",
        "            label1, label2, label3, label4, label5 = combined_model(transImg, paddedText)\n",
        "\n",
        "            diction = {\n",
        "                'humour':int(label1.argmax(1).item()),\n",
        "                'sarcasm':int(label2.argmax(1).item()),\n",
        "                'offensive':int(label3.argmax(1).item()),\n",
        "                'motivational':int(label4.argmax(1).item()),\n",
        "                'overall_sentiment':int(label5.argmax(1).item())\n",
        "\n",
        "            }\n",
        "            \n",
        "            \n",
        "        else:\n",
        "            print('File format not allowed')\n",
        "\n",
        "\n",
        "    return diction\n",
        "\n",
        "if __name__ == \"__main__\":\n",
        "    app.run(host='127.0.0.1',port=5000)"
      ]
    },
    {
      "cell_type": "code",
      "execution_count": null,
      "id": "110cf1dc",
      "metadata": {
        "id": "110cf1dc"
      },
      "outputs": [],
      "source": []
    }
  ],
  "metadata": {
    "kernelspec": {
      "display_name": "Python 3",
      "language": "python",
      "name": "python3"
    },
    "language_info": {
      "codemirror_mode": {
        "name": "ipython",
        "version": 3
      },
      "file_extension": ".py",
      "mimetype": "text/x-python",
      "name": "python",
      "nbconvert_exporter": "python",
      "pygments_lexer": "ipython3",
      "version": "3.8.8"
    },
    "colab": {
      "provenance": []
    }
  },
  "nbformat": 4,
  "nbformat_minor": 5
}